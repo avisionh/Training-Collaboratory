{
  "nbformat": 4,
  "nbformat_minor": 0,
  "metadata": {
    "colab": {
      "name": "guide_gdrivebqgsheets.ipynb",
      "provenance": []
    },
    "kernelspec": {
      "name": "python3",
      "display_name": "Python 3"
    }
  },
  "cells": [
    {
      "cell_type": "markdown",
      "metadata": {
        "id": "S9VpJgA8_Kz6",
        "colab_type": "text"
      },
      "source": [
        "# Training: GDrive x BigQuery x GSheets\n",
        "This notebook provides guidance on how you can connect your [Google Colab](https://colab.research.google.com/notebooks/welcome.ipynb#) instance to the following:\n",
        "\n",
        "- Google Drive (GDrive) \n",
        "- BigQuery (BQ)\n",
        "- Google Sheets (GSheets)\n",
        "\n",
        "The interaction of these three is useful if you want to extract data from BigQuery and put it into a Google Sheet."
      ]
    },
    {
      "cell_type": "markdown",
      "metadata": {
        "id": "DhA3GocxBcR3",
        "colab_type": "text"
      },
      "source": [
        "***\n",
        "\n",
        "## Contents\n",
        "\n",
        "The outline of this notebook is:\n",
        "\n",
        "1. Mount GDrive\n",
        "1. Connect to BigQuery\n",
        "    + Import data from there\n",
        "1. Prepare your data\n",
        "1. Open and save into GSheets"
      ]
    },
    {
      "cell_type": "markdown",
      "metadata": {
        "id": "imtcYYDSE2IC",
        "colab_type": "text"
      },
      "source": [
        "***\n",
        "\n",
        "## Set-up\n",
        "We need to install and load the necessary packages and authenticate ourselves to use things like GDrive, BQ and GSheets.\n",
        "\n"
      ]
    },
    {
      "cell_type": "code",
      "metadata": {
        "id": "5DvLDeFx_Ast",
        "colab_type": "code",
        "colab": {}
      },
      "source": [
        "# load packages\n",
        "from google.colab import auth\n",
        "from google.colab import drive\n",
        "from oauth2client.client import GoogleCredentials\n",
        "\n",
        "import pandas as pd\n",
        "import re\n",
        "\n",
        "import gspread\n",
        "import gspread_dataframe as gd"
      ],
      "execution_count": 0,
      "outputs": []
    },
    {
      "cell_type": "markdown",
      "metadata": {
        "id": "e9CVgivlF2iQ",
        "colab_type": "text"
      },
      "source": [
        "***\n",
        "\n",
        "## GDrive\n",
        "We need to mount our GDrive to this session so we can access it. This location will be where we store the prepared data for other to use, a shared drive."
      ]
    },
    {
      "cell_type": "code",
      "metadata": {
        "id": "y5RaSdKOF2EJ",
        "colab_type": "code",
        "colab": {
          "base_uri": "https://localhost:8080/",
          "height": 122
        },
        "outputId": "8e1797a0-395a-4fb2-d831-8989ad4f8e91"
      },
      "source": [
        "# mount GDrive\n",
        "drive.mount('/content/drive')"
      ],
      "execution_count": 2,
      "outputs": [
        {
          "output_type": "stream",
          "text": [
            "Go to this URL in a browser: https://accounts.google.com/o/oauth2/auth?client_id=947318989803-6bn6qk8qdgf4n4g3pfee6491hc0brc4i.apps.googleusercontent.com&redirect_uri=urn%3aietf%3awg%3aoauth%3a2.0%3aoob&response_type=code&scope=email%20https%3a%2f%2fwww.googleapis.com%2fauth%2fdocs.test%20https%3a%2f%2fwww.googleapis.com%2fauth%2fdrive%20https%3a%2f%2fwww.googleapis.com%2fauth%2fdrive.photos.readonly%20https%3a%2f%2fwww.googleapis.com%2fauth%2fpeopleapi.readonly\n",
            "\n",
            "Enter your authorization code:\n",
            "··········\n",
            "Mounted at /content/drive\n"
          ],
          "name": "stdout"
        }
      ]
    },
    {
      "cell_type": "code",
      "metadata": {
        "id": "w01w5dpCNFdm",
        "colab_type": "code",
        "colab": {
          "base_uri": "https://localhost:8080/",
          "height": 34
        },
        "outputId": "bf687bf1-7be4-42b6-96da-dc5e1a888726"
      },
      "source": [
        "# show files in current directory\n",
        "!ls"
      ],
      "execution_count": 3,
      "outputs": [
        {
          "output_type": "stream",
          "text": [
            "drive  sample_data\n"
          ],
          "name": "stdout"
        }
      ]
    },
    {
      "cell_type": "code",
      "metadata": {
        "id": "A0ja7vvwNJuF",
        "colab_type": "code",
        "colab": {}
      },
      "source": [
        "# navigate to folder of interest\n",
        "%cd \"drive/My Drive/Projects/training_googlecolaboratory\""
      ],
      "execution_count": 0,
      "outputs": []
    }
  ]
}