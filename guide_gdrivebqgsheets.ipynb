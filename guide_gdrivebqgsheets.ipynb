{
  "nbformat": 4,
  "nbformat_minor": 0,
  "metadata": {
    "colab": {
      "name": "guide_gdrivebqgsheets.ipynb",
      "provenance": []
    },
    "kernelspec": {
      "name": "python3",
      "display_name": "Python 3"
    }
  },
  "cells": [
    {
      "cell_type": "markdown",
      "metadata": {
        "id": "S9VpJgA8_Kz6",
        "colab_type": "text"
      },
      "source": [
        "# Training: GDrive x BigQuery x GSheets\n",
        "This notebook provides guidance on how you can connect your [Google Colab](https://colab.research.google.com/notebooks/welcome.ipynb#) instance to the following:\n",
        "\n",
        "- Google Drive (GDrive) \n",
        "- BigQuery (BQ)\n",
        "- Google Sheets (GSheets)\n",
        "\n",
        "The interaction of these three is useful if you want to extract data from BigQuery and put it into a Google Sheet."
      ]
    },
    {
      "cell_type": "markdown",
      "metadata": {
        "id": "DhA3GocxBcR3",
        "colab_type": "text"
      },
      "source": [
        "***\n",
        "\n",
        "## Contents\n",
        "\n",
        "The outline of this notebook is:\n",
        "\n",
        "1. Mount GDrive\n",
        "1. Connect to BigQuery\n",
        "    + Import data from there\n",
        "1. Prepare your data\n",
        "1. Open and save into GSheets"
      ]
    },
    {
      "cell_type": "code",
      "metadata": {
        "id": "5DvLDeFx_Ast",
        "colab_type": "code",
        "colab": {}
      },
      "source": [
        ""
      ],
      "execution_count": 0,
      "outputs": []
    }
  ]
}