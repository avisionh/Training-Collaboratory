{
  "nbformat": 4,
  "nbformat_minor": 0,
  "metadata": {
    "colab": {
      "name": "guide_gdrivebqgsheets.ipynb",
      "provenance": []
    },
    "kernelspec": {
      "name": "python3",
      "display_name": "Python 3"
    }
  },
  "cells": [
    {
      "cell_type": "markdown",
      "metadata": {
        "id": "S9VpJgA8_Kz6",
        "colab_type": "text"
      },
      "source": [
        "# Training: GDrive x BigQuery x GSheets\n",
        "[![Open In Colab](https://colab.research.google.com/assets/colab-badge.svg)](https://drive.google.com/open?id=19XZJFzkBj9QuLAfyRMbXj1-v7d9mAtYq)\n",
        "\n",
        "This notebook provides guidance on how you can connect your [Google Colab](https://colab.research.google.com/notebooks/welcome.ipynb#) instance to the following:\n",
        "\n",
        "- Google Drive (GDrive) \n",
        "- BigQuery (BQ)\n",
        "- Google Sheets (GSheets)\n",
        "\n",
        "The interaction of these three is useful if you want to extract data from BigQuery and put it into a Google Sheet."
      ]
    },
    {
      "cell_type": "markdown",
      "metadata": {
        "id": "DhA3GocxBcR3",
        "colab_type": "text"
      },
      "source": [
        "***\n",
        "\n",
        "## Contents\n",
        "\n",
        "The outline of this notebook is:\n",
        "\n",
        "1. Mount GDrive\n",
        "1. Connect to BigQuery\n",
        "    + Import data from there\n",
        "1. Prepare your data\n",
        "1. Open and save into GSheets"
      ]
    },
    {
      "cell_type": "markdown",
      "metadata": {
        "id": "imtcYYDSE2IC",
        "colab_type": "text"
      },
      "source": [
        "***\n",
        "\n",
        "## Set-up\n",
        "We need to install and load the necessary packages and authenticate ourselves to use things like GDrive, BQ and GSheets.\n",
        "\n"
      ]
    },
    {
      "cell_type": "code",
      "metadata": {
        "id": "5DvLDeFx_Ast",
        "colab_type": "code",
        "colab": {}
      },
      "source": [
        "# load packages\n",
        "from google.colab import auth\n",
        "from google.colab import drive\n",
        "from oauth2client.client import GoogleCredentials\n",
        "\n",
        "import pandas as pd\n",
        "import re\n",
        "\n",
        "import gspread\n",
        "import gspread_dataframe as gd"
      ],
      "execution_count": 0,
      "outputs": []
    },
    {
      "cell_type": "markdown",
      "metadata": {
        "id": "e9CVgivlF2iQ",
        "colab_type": "text"
      },
      "source": [
        "***\n",
        "\n",
        "## GDrive\n",
        "We need to mount our GDrive to this session so we can access it. This location will be where we store the prepared data for other to use, a shared drive."
      ]
    },
    {
      "cell_type": "code",
      "metadata": {
        "id": "y5RaSdKOF2EJ",
        "colab_type": "code",
        "outputId": "508d4462-eac7-4d47-fc4d-473dcf93a579",
        "colab": {
          "base_uri": "https://localhost:8080/",
          "height": 122
        }
      },
      "source": [
        "# mount GDrive\n",
        "drive.mount('/content/drive')"
      ],
      "execution_count": 4,
      "outputs": [
        {
          "output_type": "stream",
          "text": [
            "Go to this URL in a browser: https://accounts.google.com/o/oauth2/auth?client_id=947318989803-6bn6qk8qdgf4n4g3pfee6491hc0brc4i.apps.googleusercontent.com&redirect_uri=urn%3aietf%3awg%3aoauth%3a2.0%3aoob&response_type=code&scope=email%20https%3a%2f%2fwww.googleapis.com%2fauth%2fdocs.test%20https%3a%2f%2fwww.googleapis.com%2fauth%2fdrive%20https%3a%2f%2fwww.googleapis.com%2fauth%2fdrive.photos.readonly%20https%3a%2f%2fwww.googleapis.com%2fauth%2fpeopleapi.readonly\n",
            "\n",
            "Enter your authorization code:\n",
            "··········\n",
            "Mounted at /content/drive\n"
          ],
          "name": "stdout"
        }
      ]
    },
    {
      "cell_type": "code",
      "metadata": {
        "id": "w01w5dpCNFdm",
        "colab_type": "code",
        "outputId": "a1aa4e1b-9959-44b9-aab1-8c60d126e748",
        "colab": {
          "base_uri": "https://localhost:8080/",
          "height": 34
        }
      },
      "source": [
        "# show files in current directory\n",
        "!ls"
      ],
      "execution_count": 5,
      "outputs": [
        {
          "output_type": "stream",
          "text": [
            "drive  sample_data\n"
          ],
          "name": "stdout"
        }
      ]
    },
    {
      "cell_type": "code",
      "metadata": {
        "id": "A0ja7vvwNJuF",
        "colab_type": "code",
        "colab": {
          "base_uri": "https://localhost:8080/",
          "height": 34
        },
        "outputId": "a4144979-06e7-4880-c5e5-cccd206b58fa"
      },
      "source": [
        "# navigate to folder of interest\n",
        "%cd \"drive/My Drive/Projects/training_googlecolaboratory\""
      ],
      "execution_count": 6,
      "outputs": [
        {
          "output_type": "stream",
          "text": [
            "/content/drive/My Drive/Projects/training_googlecolaboratory\n"
          ],
          "name": "stdout"
        }
      ]
    },
    {
      "cell_type": "markdown",
      "metadata": {
        "id": "dWrQy-SJM08u",
        "colab_type": "text"
      },
      "source": [
        "***\n",
        "\n",
        "## BigQuery\n",
        "We connect to BigQuery to import data into our Google Colab session.\n",
        "\n",
        "> *Note: Colab cannot take too much data so do not import too much!*"
      ]
    },
    {
      "cell_type": "code",
      "metadata": {
        "id": "NW6Lh-c6M0jQ",
        "colab_type": "code",
        "colab": {}
      },
      "source": [
        "# pretty table display\n",
        "%load_ext google.colab.data_table"
      ],
      "execution_count": 0,
      "outputs": []
    },
    {
      "cell_type": "code",
      "metadata": {
        "id": "Pg4IHjozQ19u",
        "colab_type": "code",
        "colab": {}
      },
      "source": [
        "# authenticate to access Google Cloud SDK to use BQ \n",
        "auth.authenticate_user()"
      ],
      "execution_count": 0,
      "outputs": []
    },
    {
      "cell_type": "code",
      "metadata": {
        "id": "nHFBPed9NwdP",
        "colab_type": "code",
        "colab": {}
      },
      "source": [
        "# save output in a variable, `data_hn_stories`\n",
        "%%bigquery --project training-265812 data_hn_stories\n",
        "\n",
        "SELECT \n",
        "  `id`\n",
        "  ,`by` AS username_submitter\n",
        "  ,`score`\n",
        "  ,`time_ts`\n",
        "  ,`title`\n",
        "  ,`url`\n",
        "  ,`text`\n",
        "  ,`deleted`\n",
        "  ,`dead`\n",
        "  ,`descendants`\n",
        "  ,`author` AS username_author\n",
        "FROM `bigquery-public-data.hacker_news.stories` \n",
        "WHERE title IS NOT NULL\n",
        "  AND title NOT IN  ('', 'Placeholder')\n",
        "  AND text IS NOT NULL\n",
        "  AND text NOT IN ('')"
      ],
      "execution_count": 0,
      "outputs": []
    },
    {
      "cell_type": "code",
      "metadata": {
        "id": "hMbkP7D4RGjW",
        "colab_type": "code",
        "colab": {
          "base_uri": "https://localhost:8080/",
          "height": 1000
        },
        "outputId": "5362df3a-8d33-4764-a19a-7e57f012235e"
      },
      "source": [
        "# view data\n",
        "data_hn_stories.info()\n",
        "data_hn_stories"
      ],
      "execution_count": 15,
      "outputs": [
        {
          "output_type": "stream",
          "text": [
            "<class 'pandas.core.frame.DataFrame'>\n",
            "RangeIndex: 218621 entries, 0 to 218620\n",
            "Data columns (total 11 columns):\n",
            " #   Column              Non-Null Count   Dtype              \n",
            "---  ------              --------------   -----              \n",
            " 0   id                  218621 non-null  int64              \n",
            " 1   username_submitter  218621 non-null  object             \n",
            " 2   score               218621 non-null  int64              \n",
            " 3   time_ts             218621 non-null  datetime64[ns, UTC]\n",
            " 4   title               218621 non-null  object             \n",
            " 5   url                 217250 non-null  object             \n",
            " 6   text                218621 non-null  object             \n",
            " 7   deleted             0 non-null       object             \n",
            " 8   dead                95795 non-null   object             \n",
            " 9   descendants         210069 non-null  float64            \n",
            " 10  username_author     218621 non-null  object             \n",
            "dtypes: datetime64[ns, UTC](1), float64(1), int64(2), object(7)\n",
            "memory usage: 18.3+ MB\n"
          ],
          "name": "stdout"
        },
        {
          "output_type": "execute_result",
          "data": {
            "text/html": [
              "<div>\n",
              "<style scoped>\n",
              "    .dataframe tbody tr th:only-of-type {\n",
              "        vertical-align: middle;\n",
              "    }\n",
              "\n",
              "    .dataframe tbody tr th {\n",
              "        vertical-align: top;\n",
              "    }\n",
              "\n",
              "    .dataframe thead th {\n",
              "        text-align: right;\n",
              "    }\n",
              "</style>\n",
              "<table border=\"1\" class=\"dataframe\">\n",
              "  <thead>\n",
              "    <tr style=\"text-align: right;\">\n",
              "      <th></th>\n",
              "      <th>id</th>\n",
              "      <th>username_submitter</th>\n",
              "      <th>score</th>\n",
              "      <th>time_ts</th>\n",
              "      <th>title</th>\n",
              "      <th>url</th>\n",
              "      <th>text</th>\n",
              "      <th>deleted</th>\n",
              "      <th>dead</th>\n",
              "      <th>descendants</th>\n",
              "      <th>username_author</th>\n",
              "    </tr>\n",
              "  </thead>\n",
              "  <tbody>\n",
              "    <tr>\n",
              "      <th>0</th>\n",
              "      <td>6988445</td>\n",
              "      <td>cflick</td>\n",
              "      <td>0</td>\n",
              "      <td>2013-12-31 01:55:02+00:00</td>\n",
              "      <td>Appshare</td>\n",
              "      <td>http://chadflick.ws/appshare.html</td>\n",
              "      <td>Did facebook or angrybirds pay you?  We will!</td>\n",
              "      <td>None</td>\n",
              "      <td>True</td>\n",
              "      <td>NaN</td>\n",
              "      <td>cflick</td>\n",
              "    </tr>\n",
              "    <tr>\n",
              "      <th>1</th>\n",
              "      <td>2130263</td>\n",
              "      <td>alikamp</td>\n",
              "      <td>0</td>\n",
              "      <td>2011-01-22 10:41:13+00:00</td>\n",
              "      <td>A Handfull of Gold.</td>\n",
              "      <td></td>\n",
              "      <td>A handful of gold. Im sure we all believe that...</td>\n",
              "      <td>None</td>\n",
              "      <td>True</td>\n",
              "      <td>NaN</td>\n",
              "      <td>alikamp</td>\n",
              "    </tr>\n",
              "    <tr>\n",
              "      <th>2</th>\n",
              "      <td>7410550</td>\n",
              "      <td>jeassonlens</td>\n",
              "      <td>0</td>\n",
              "      <td>2014-03-16 18:28:18+00:00</td>\n",
              "      <td>Fastest Growing Skin Care Supplement for Incre...</td>\n",
              "      <td>http://naturosciences.com/</td>\n",
              "      <td>Naturo Sciences is a health &amp;amp; beauty speci...</td>\n",
              "      <td>None</td>\n",
              "      <td>True</td>\n",
              "      <td>NaN</td>\n",
              "      <td>jeassonlens</td>\n",
              "    </tr>\n",
              "    <tr>\n",
              "      <th>3</th>\n",
              "      <td>7164302</td>\n",
              "      <td>annawright010</td>\n",
              "      <td>0</td>\n",
              "      <td>2014-02-02 01:08:27+00:00</td>\n",
              "      <td>R4 3ds sdhc</td>\n",
              "      <td>http://www.r4i3dscards.co.uk</td>\n",
              "      <td>R4i3dscards.co.uk is a reliable online store t...</td>\n",
              "      <td>None</td>\n",
              "      <td>True</td>\n",
              "      <td>NaN</td>\n",
              "      <td>annawright010</td>\n",
              "    </tr>\n",
              "    <tr>\n",
              "      <th>4</th>\n",
              "      <td>7791964</td>\n",
              "      <td>limpeseunomebvw</td>\n",
              "      <td>0</td>\n",
              "      <td>2014-05-23 23:38:08+00:00</td>\n",
              "      <td>Empréstimo Com Nome Sujo</td>\n",
              "      <td>http://www.emprestimopessoal-bvw.com.br/empres...</td>\n",
              "      <td>limpe seu nome online e pela internet, para se...</td>\n",
              "      <td>None</td>\n",
              "      <td>True</td>\n",
              "      <td>NaN</td>\n",
              "      <td>limpeseunomebvw</td>\n",
              "    </tr>\n",
              "    <tr>\n",
              "      <th>...</th>\n",
              "      <td>...</td>\n",
              "      <td>...</td>\n",
              "      <td>...</td>\n",
              "      <td>...</td>\n",
              "      <td>...</td>\n",
              "      <td>...</td>\n",
              "      <td>...</td>\n",
              "      <td>...</td>\n",
              "      <td>...</td>\n",
              "      <td>...</td>\n",
              "      <td>...</td>\n",
              "    </tr>\n",
              "    <tr>\n",
              "      <th>218616</th>\n",
              "      <td>1769910</td>\n",
              "      <td>joshu</td>\n",
              "      <td>240</td>\n",
              "      <td>2010-10-07 23:18:43+00:00</td>\n",
              "      <td>Ask HN: Tools of the trade, 2010 edition</td>\n",
              "      <td></td>\n",
              "      <td>When I first started delicious, we had to host...</td>\n",
              "      <td>None</td>\n",
              "      <td>None</td>\n",
              "      <td>92.0</td>\n",
              "      <td>joshu</td>\n",
              "    </tr>\n",
              "    <tr>\n",
              "      <th>218617</th>\n",
              "      <td>6653437</td>\n",
              "      <td>whoishiring</td>\n",
              "      <td>240</td>\n",
              "      <td>2013-11-01 13:18:22+00:00</td>\n",
              "      <td>Ask HN: Who is hiring? (November 2013)</td>\n",
              "      <td></td>\n",
              "      <td>Please lead with the location of the position ...</td>\n",
              "      <td>None</td>\n",
              "      <td>None</td>\n",
              "      <td>391.0</td>\n",
              "      <td>whoishiring</td>\n",
              "    </tr>\n",
              "    <tr>\n",
              "      <th>218618</th>\n",
              "      <td>3408407</td>\n",
              "      <td>jpadvo</td>\n",
              "      <td>245</td>\n",
              "      <td>2011-12-30 18:00:34+00:00</td>\n",
              "      <td>Spamhaus Nightmare: Domain Shut Down, No Notic...</td>\n",
              "      <td></td>\n",
              "      <td>I am writing this here on HN, because at the m...</td>\n",
              "      <td>None</td>\n",
              "      <td>None</td>\n",
              "      <td>95.0</td>\n",
              "      <td>jpadvo</td>\n",
              "    </tr>\n",
              "    <tr>\n",
              "      <th>218619</th>\n",
              "      <td>9439286</td>\n",
              "      <td>temp_-_</td>\n",
              "      <td>247</td>\n",
              "      <td>2015-04-25 19:14:13+00:00</td>\n",
              "      <td>Ask HN: Those who quit their jobs to travel th...</td>\n",
              "      <td></td>\n",
              "      <td>I seem to read so many comments on discussion ...</td>\n",
              "      <td>None</td>\n",
              "      <td>None</td>\n",
              "      <td>168.0</td>\n",
              "      <td>temp_-_</td>\n",
              "    </tr>\n",
              "    <tr>\n",
              "      <th>218620</th>\n",
              "      <td>6754953</td>\n",
              "      <td>krrishd</td>\n",
              "      <td>252</td>\n",
              "      <td>2013-11-18 16:10:32+00:00</td>\n",
              "      <td>Ask HN: I'm 15, won a grant to develop a suici...</td>\n",
              "      <td></td>\n",
              "      <td>Some background:\\nI&amp;#x27;m 15 years old, atten...</td>\n",
              "      <td>None</td>\n",
              "      <td>None</td>\n",
              "      <td>157.0</td>\n",
              "      <td>krrishd</td>\n",
              "    </tr>\n",
              "  </tbody>\n",
              "</table>\n",
              "<p>218621 rows × 11 columns</p>\n",
              "</div>"
            ],
            "text/plain": [
              "             id username_submitter  score  ...  dead descendants  username_author\n",
              "0       6988445             cflick      0  ...  True         NaN           cflick\n",
              "1       2130263            alikamp      0  ...  True         NaN          alikamp\n",
              "2       7410550        jeassonlens      0  ...  True         NaN      jeassonlens\n",
              "3       7164302      annawright010      0  ...  True         NaN    annawright010\n",
              "4       7791964    limpeseunomebvw      0  ...  True         NaN  limpeseunomebvw\n",
              "...         ...                ...    ...  ...   ...         ...              ...\n",
              "218616  1769910              joshu    240  ...  None        92.0            joshu\n",
              "218617  6653437        whoishiring    240  ...  None       391.0      whoishiring\n",
              "218618  3408407             jpadvo    245  ...  None        95.0           jpadvo\n",
              "218619  9439286            temp_-_    247  ...  None       168.0          temp_-_\n",
              "218620  6754953            krrishd    252  ...  None       157.0          krrishd\n",
              "\n",
              "[218621 rows x 11 columns]"
            ]
          },
          "metadata": {
            "tags": []
          },
          "execution_count": 15
        }
      ]
    }
  ]
}